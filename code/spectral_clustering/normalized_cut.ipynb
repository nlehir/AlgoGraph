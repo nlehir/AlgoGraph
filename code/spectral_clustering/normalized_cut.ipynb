{
 "cells": [
  {
   "cell_type": "code",
   "execution_count": 3,
   "metadata": {},
   "outputs": [],
   "source": [
    "\"\"\"\n",
    "    We will study a heursitic for obtaining a relevant number of clusters\n",
    "    in a clustering situation.\n",
    "    The clustering will be performed by a Spectral Clustering.\n",
    "    Spectral Clustering works with an adjacency matrix\n",
    "    or a similarity matrix.\n",
    "\"\"\"\n",
    "\n",
    "from sklearn.cluster import SpectralClustering\n",
    "import numpy as np\n",
    "import matplotlib.pyplot as plt\n",
    "\n",
    "# load the data\n",
    "adjacency_matrix = np.load(\"data/adjacency_matrix.npy\")\n",
    "# nb datapoints\n",
    "nb_datapoints = adjacency_matrix.shape[0]\n",
    "dataset = [x for x in range(nb_datapoints)]\n",
    "\n",
    "\n",
    "def cluster_and_compute_normalized_cut(nb_clusters, adjacency_matrix):\n",
    "    # setup spectral clustering\n",
    "    sc = SpectralClustering(nb_clusters, affinity='precomputed')\n",
    "    # apply the Spectral Clustering to the adjacency matrix\n",
    "    sc.fit_predict(adjacency_matrix)\n",
    "\n",
    "    clusters = list()\n",
    "    for cluter_index in range(nb_clusters):\n",
    "        cluster = np.where(sc.labels_ == cluter_index)[0]\n",
    "        clusters.append(cluster)\n",
    "\n",
    "    # compute the normalized cut of the clustering\n",
    "    normalized_cut = 0\n",
    "    for cluster in clusters:\n",
    "        # points that are not in this cluster\n",
    "        complementary = [x for x in dataset if x not in cluster]\n",
    "\n",
    "        # compute the cut of the cluster\n",
    "        # connections with points outside itsself\n",
    "        cluster_cut = 0\n",
    "        for point in cluster:\n",
    "            point_outside_connections = sum(adjacency_matrix[point, complementary])\n",
    "            cluster_cut += point_outside_connections\n",
    "\n",
    "        # compute the degree of the cluster\n",
    "        # it is the sum of the degree of all its nodes\n",
    "        cluster_degree = 0\n",
    "        for point in cluster:\n",
    "            point_degree = sum(adjacency_matrix[point, :])\n",
    "            cluster_degree += point_degree\n",
    "\n",
    "        # compute the normalized cut\n",
    "        cluster_normalized_cut = cluster_cut/cluster_degree\n",
    "        normalized_cut += cluster_normalized_cut\n",
    "\n",
    "    print(f\"normalized cut: {normalized_cut}\")\n",
    "    return normalized_cut"
   ]
  },
  {
   "cell_type": "code",
   "execution_count": 6,
   "metadata": {},
   "outputs": [
    {
     "name": "stdout",
     "output_type": "stream",
     "text": [
      "======\n",
      "nb clusters: 1\n",
      "normalized cut: 0.0\n",
      "======\n",
      "nb clusters: 2\n",
      "normalized cut: 0.0\n",
      "======\n",
      "nb clusters: 3\n",
      "normalized cut: 0.012394755685044813\n",
      "======\n",
      "nb clusters: 4\n",
      "normalized cut: 0.6230709122686746\n",
      "======\n",
      "nb clusters: 5\n",
      "normalized cut: 1.3935183073693973\n",
      "======\n",
      "nb clusters: 6\n",
      "normalized cut: 2.273690510872282\n",
      "======\n",
      "nb clusters: 7\n"
     ]
    },
    {
     "name": "stderr",
     "output_type": "stream",
     "text": [
      "/opt/conda/lib/python3.7/site-packages/sklearn/manifold/_spectral_embedding.py:236: UserWarning: Graph is not fully connected, spectral embedding may not work as expected.\n",
      "  warnings.warn(\"Graph is not fully connected, spectral embedding\"\n",
      "/opt/conda/lib/python3.7/site-packages/sklearn/manifold/_spectral_embedding.py:236: UserWarning: Graph is not fully connected, spectral embedding may not work as expected.\n",
      "  warnings.warn(\"Graph is not fully connected, spectral embedding\"\n",
      "/opt/conda/lib/python3.7/site-packages/sklearn/manifold/_spectral_embedding.py:236: UserWarning: Graph is not fully connected, spectral embedding may not work as expected.\n",
      "  warnings.warn(\"Graph is not fully connected, spectral embedding\"\n",
      "/opt/conda/lib/python3.7/site-packages/sklearn/manifold/_spectral_embedding.py:236: UserWarning: Graph is not fully connected, spectral embedding may not work as expected.\n",
      "  warnings.warn(\"Graph is not fully connected, spectral embedding\"\n",
      "/opt/conda/lib/python3.7/site-packages/sklearn/manifold/_spectral_embedding.py:236: UserWarning: Graph is not fully connected, spectral embedding may not work as expected.\n",
      "  warnings.warn(\"Graph is not fully connected, spectral embedding\"\n",
      "/opt/conda/lib/python3.7/site-packages/sklearn/manifold/_spectral_embedding.py:236: UserWarning: Graph is not fully connected, spectral embedding may not work as expected.\n",
      "  warnings.warn(\"Graph is not fully connected, spectral embedding\"\n",
      "/opt/conda/lib/python3.7/site-packages/sklearn/manifold/_spectral_embedding.py:236: UserWarning: Graph is not fully connected, spectral embedding may not work as expected.\n",
      "  warnings.warn(\"Graph is not fully connected, spectral embedding\"\n"
     ]
    },
    {
     "name": "stdout",
     "output_type": "stream",
     "text": [
      "normalized cut: 3.2602107120324897\n",
      "======\n",
      "nb clusters: 8\n",
      "normalized cut: 4.146145003291958\n",
      "======\n",
      "nb clusters: 9\n",
      "normalized cut: 5.126636101676963\n"
     ]
    },
    {
     "name": "stderr",
     "output_type": "stream",
     "text": [
      "/opt/conda/lib/python3.7/site-packages/sklearn/manifold/_spectral_embedding.py:236: UserWarning: Graph is not fully connected, spectral embedding may not work as expected.\n",
      "  warnings.warn(\"Graph is not fully connected, spectral embedding\"\n",
      "/opt/conda/lib/python3.7/site-packages/sklearn/manifold/_spectral_embedding.py:236: UserWarning: Graph is not fully connected, spectral embedding may not work as expected.\n",
      "  warnings.warn(\"Graph is not fully connected, spectral embedding\"\n"
     ]
    },
    {
     "data": {
      "image/png": "[encoded data removed]",
      "text/plain": [
       "<Figure size 432x288 with 1 Axes>"
      ]
     },
     "metadata": {
      "needs_background": "light"
     },
     "output_type": "display_data"
    }
   ],
   "source": [
    "normalized_cuts = list()\n",
    "max_nb_clusters = 10\n",
    "tried_nb_clusters = range(1, max_nb_clusters)\n",
    "\n",
    "for nb_clusters in tried_nb_clusters:\n",
    "    print(f\"======\\nnb clusters: {nb_clusters}\")\n",
    "    normalized_cuts.append(cluster_and_compute_normalized_cut(nb_clusters, adjacency_matrix))\n",
    "\n",
    "plt.plot(tried_nb_clusters, normalized_cuts, 'o')\n",
    "plt.title(\"normalized cut heuristic\")\n",
    "plt.xlabel(\"nb clusters\")\n",
    "plt.ylabel(\"normalized cut\")\n",
    "plt.show()"
   ]
  }
 ],
 "metadata": {
  "kernelspec": {
   "display_name": "Python 3",
   "language": "python",
   "name": "python3"
  },
  "language_info": {
   "codemirror_mode": {
    "name": "ipython",
    "version": 3
   },
   "file_extension": ".py",
   "mimetype": "text/x-python",
   "name": "python",
   "nbconvert_exporter": "python",
   "pygments_lexer": "ipython3",
   "version": "3.7.6"
  }
 },
 "nbformat": 4,
 "nbformat_minor": 4
}
