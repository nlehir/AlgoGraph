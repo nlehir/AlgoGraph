{
 "cells": [
  {
   "cell_type": "code",
   "execution_count": 5,
   "metadata": {},
   "outputs": [
    {
     "name": "stdout",
     "output_type": "stream",
     "text": [
      "(array([], dtype=int64), array([], dtype=int64))\n",
      "[[0. 1. 1. 0. 0. 0. 0. 0. 0. 0. 0. 0. 0. 0.]\n",
      " [1. 0. 1. 1. 0. 1. 0. 0. 0. 0. 0. 0. 0. 0.]\n",
      " [1. 1. 0. 0. 1. 1. 0. 0. 0. 0. 0. 0. 0. 0.]\n",
      " [0. 1. 0. 0. 1. 0. 0. 0. 0. 0. 0. 0. 0. 0.]\n",
      " [0. 0. 1. 1. 0. 0. 0. 0. 0. 0. 0. 0. 0. 0.]\n",
      " [0. 1. 1. 0. 0. 0. 0. 0. 0. 0. 0. 0. 0. 0.]\n",
      " [0. 0. 0. 0. 0. 0. 0. 1. 1. 0. 0. 0. 0. 0.]\n",
      " [0. 0. 0. 0. 0. 0. 1. 0. 1. 0. 0. 0. 0. 0.]\n",
      " [0. 0. 0. 0. 0. 0. 1. 1. 0. 0. 0. 0. 0. 0.]\n",
      " [0. 0. 0. 0. 0. 0. 0. 0. 0. 0. 0. 0. 1. 1.]\n",
      " [0. 0. 0. 0. 0. 0. 0. 0. 0. 0. 0. 1. 1. 0.]\n",
      " [0. 0. 0. 0. 0. 0. 0. 0. 0. 0. 1. 0. 1. 1.]\n",
      " [0. 0. 0. 0. 0. 0. 0. 0. 0. 1. 1. 1. 0. 1.]\n",
      " [0. 0. 0. 0. 0. 0. 0. 0. 0. 1. 0. 1. 1. 0.]]\n"
     ]
    }
   ],
   "source": [
    "\"\"\"\n",
    "    build an affinity matric and apply Spectral Clustering\n",
    "\"\"\"\n",
    "from sklearn.cluster import SpectralClustering\n",
    "import numpy as np\n",
    "\n",
    "adjacency_matrix = np.random.randint(0, 2, (10, 10))\n",
    "adjacency_matrix = np.zeros((14, 14))\n",
    "\n",
    "# Implement the adjacency matrix\n",
    "# cluster 1\n",
    "adjacency_matrix[0, [1, 2]] = 1\n",
    "adjacency_matrix[1, [0, 3, 2, 5]] = 1\n",
    "adjacency_matrix[2, [0, 1, 5, 4]] = 1\n",
    "adjacency_matrix[3, [1, 4]] = 1\n",
    "adjacency_matrix[4, [2, 3]] = 1\n",
    "adjacency_matrix[5, [1, 2]] = 1\n",
    "\n",
    "# cluster 2\n",
    "adjacency_matrix[6, [7, 8]] = 1\n",
    "adjacency_matrix[7, [6, 8]] = 1\n",
    "adjacency_matrix[8, [7, 6]] = 1\n",
    "\n",
    "# cluster 3\n",
    "adjacency_matrix[9, [12, 13]] = 1\n",
    "adjacency_matrix[10, [11, 12]] = 1\n",
    "adjacency_matrix[11, [10, 12, 13]] = 1\n",
    "adjacency_matrix[12, [9, 10, 11, 13]] = 1\n",
    "adjacency_matrix[13, [9, 11, 12]] = 1\n",
    "\n",
    "transp = np.transpose(adjacency_matrix)\n",
    "print(np.where(adjacency_matrix-transp))\n",
    "print(adjacency_matrix)"
   ]
  },
  {
   "cell_type": "code",
   "execution_count": 4,
   "metadata": {},
   "outputs": [
    {
     "name": "stdout",
     "output_type": "stream",
     "text": [
      "cluster 0\n",
      "[ 9 10 11 12 13]\n",
      "cluster 1\n",
      "[0 1 2 3 4 5]\n",
      "cluster 2\n",
      "[6 7 8]\n"
     ]
    },
    {
     "name": "stderr",
     "output_type": "stream",
     "text": [
      "/opt/conda/lib/python3.7/site-packages/sklearn/manifold/_spectral_embedding.py:236: UserWarning: Graph is not fully connected, spectral embedding may not work as expected.\n",
      "  warnings.warn(\"Graph is not fully connected, spectral embedding\"\n"
     ]
    }
   ],
   "source": [
    "nb_datapoints = adjacency_matrix.shape[0]\n",
    "dataset = [x for x in range(nb_datapoints)]\n",
    "\n",
    "# CHANGE HERE\n",
    "# choose a relevant number of clusters\n",
    "nb_clusters = 3\n",
    "\n",
    "sc = SpectralClustering(nb_clusters, affinity='precomputed')\n",
    "# apply the Spectral Clustering to the adjacency matrix\n",
    "sc.fit_predict(adjacency_matrix)\n",
    "\n",
    "# print the clusters\n",
    "for cluster_index in range(nb_clusters):\n",
    "    cluster = np.where(sc.labels_ == cluster_index)[0]\n",
    "    print(\"cluster {}\".format(cluster_index))\n",
    "    print(cluster)"
   ]
  }
 ],
 "metadata": {
  "kernelspec": {
   "display_name": "Python 3",
   "language": "python",
   "name": "python3"
  },
  "language_info": {
   "codemirror_mode": {
    "name": "ipython",
    "version": 3
   },
   "file_extension": ".py",
   "mimetype": "text/x-python",
   "name": "python",
   "nbconvert_exporter": "python",
   "pygments_lexer": "ipython3",
   "version": "3.7.6"
  }
 },
 "nbformat": 4,
 "nbformat_minor": 4
}
