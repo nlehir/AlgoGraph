{
 "cells": [
  {
   "cell_type": "code",
   "execution_count": 2,
   "metadata": {},
   "outputs": [
    {
     "name": "stdout",
     "output_type": "stream",
     "text": [
      "il y a bien n(n-1)/2= 45 arêtes possibles\n"
     ]
    }
   ],
   "source": [
    "\"\"\"\n",
    "Generating a random undirected graph\n",
    "\"\"\"\n",
    "\n",
    "import numpy as np\n",
    "import random\n",
    "import networkx as nx\n",
    "import matplotlib.pyplot as plt\n",
    "\n",
    "def generate_random_undirected_graph(n: int, p: int):\n",
    "    \"\"\"\n",
    "        Function used to generate a random undirected graph.\n",
    "\n",
    "        :param n: number of nodes in the graph\n",
    "        :param p: number of edges in the graph\n",
    "\n",
    "        Libraries used :\n",
    "        ----------------\n",
    "        networkx\n",
    "        matplotlib\n",
    "\n",
    "    \"\"\"\n",
    "    G = nx.Graph()\n",
    "\n",
    "    if p > n * (n - 1) / 2:\n",
    "        raise ValueError('The number of edges is too large !')\n",
    "\n",
    "    # in an undirected graph, we dont need to consider the inverse of an edge\n",
    "    all_edges = [{i, j} for i in range(1, n + 1) for j in range(i + 1, n + 1)]\n",
    "    # shuffle the order of the edges\n",
    "    random.shuffle(all_edges)\n",
    "\n",
    "    # double check that we did not make an error while creating our set of edges\n",
    "    if len(all_edges) == n * (n - 1) / 2:\n",
    "        print(f\"il y a bien n(n-1)/2= {int((n * (n - 1))/2)} arêtes possibles\")\n",
    "\n",
    "    # set available colors\n",
    "    available_node_colors = [\"#46b2e0\", \"#cbe046\", \"#a246e0\", \"#e8a264\"]\n",
    "    available_edges_colors = [\"#e8d464\", \"#b1e864\", \"#64a8e8\", \"#1c6fbd\"]\n",
    "\n",
    "    # add nodes to the graph\n",
    "    for i in range(1, n + 1):\n",
    "        G.add_node(i)\n",
    "\n",
    "    for j in range(p - 1):\n",
    "        random_edge = all_edges.pop()\n",
    "        node_a = random_edge.pop()\n",
    "        node_b = random_edge.pop()\n",
    "        G.add_edge(node_a, node_b)\n",
    "\n",
    "    # set random node colors\n",
    "    node_colors = list()\n",
    "    node_sizes = list()\n",
    "    for node in G.nodes:\n",
    "        node_colors.append(random.choice(available_node_colors))\n",
    "        node_sizes.append(random.uniform(50, 400))\n",
    "\n",
    "    # set random edges colors\n",
    "    edge_colors = list()\n",
    "    edge_widths = list()\n",
    "    for edge in G.edges:\n",
    "        edge_colors.append(random.choice(available_edges_colors))\n",
    "        edge_widths.append(random.uniform(0.2, 2.5))\n",
    "\n",
    "    # visualize and save the graph\n",
    "    graph_name = f\"images/random_undirected_{n}_vx_{p}_edgs.pdf\"\n",
    "    nx.draw(G,\n",
    "            node_size=node_sizes,\n",
    "            node_color=node_colors,\n",
    "            edge_color=edge_colors,\n",
    "            width=edge_widths)\n",
    "\n",
    "generate_random_undirected_graph(10, 40)"
   ]
  }
 ],
 "metadata": {
  "kernelspec": {
   "display_name": "Python 3",
   "language": "python",
   "name": "python3"
  },
  "language_info": {
   "codemirror_mode": {
    "name": "ipython",
    "version": 3
   },
   "file_extension": ".py",
   "mimetype": "text/x-python",
   "name": "python",
   "nbconvert_exporter": "python",
   "pygments_lexer": "ipython3",
   "version": "3.7.6"
  }
 },
 "nbformat": 4,
 "nbformat_minor": 4
}
