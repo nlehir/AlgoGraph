{
 "cells": [
  {
   "cell_type": "code",
   "execution_count": 4,
   "metadata": {},
   "outputs": [],
   "source": [
    "import math\n",
    "import numpy as np\n",
    "import pylab as pl\n",
    "import matplotlib.pyplot as plt\n",
    "import pandas as pd\n",
    "from IPython import display\n",
    "from graphviz import Graph"
   ]
  },
  {
   "cell_type": "code",
   "execution_count": 5,
   "metadata": {},
   "outputs": [],
   "source": [
    "dataframe = pd.read_csv(\"csv_files/complex_data.csv\")"
   ]
  },
  {
   "cell_type": "code",
   "execution_count": 6,
   "metadata": {},
   "outputs": [
    {
     "name": "stdout",
     "output_type": "stream",
     "text": [
      "6\n"
     ]
    }
   ],
   "source": [
    "nb_players = len(dataframe.index)\n",
    "print(nb_players)"
   ]
  },
  {
   "cell_type": "code",
   "execution_count": 7,
   "metadata": {},
   "outputs": [
    {
     "name": "stdout",
     "output_type": "stream",
     "text": [
      "<class 'pandas.core.frame.DataFrame'>\n",
      "RangeIndex: 6 entries, 0 to 5\n",
      "Data columns (total 4 columns):\n",
      " #   Column         Non-Null Count  Dtype \n",
      "---  ------         --------------  ----- \n",
      " 0   Name           6 non-null      object\n",
      " 1   Fifa note      6 non-null      int64 \n",
      " 2   speed          6 non-null      int64 \n",
      " 3   favorite meal  6 non-null      object\n",
      "dtypes: int64(2), object(2)\n",
      "memory usage: 320.0+ bytes\n",
      "None\n"
     ]
    }
   ],
   "source": [
    "print(dataframe.info())"
   ]
  },
  {
   "cell_type": "code",
   "execution_count": 8,
   "metadata": {},
   "outputs": [
    {
     "name": "stdout",
     "output_type": "stream",
     "text": [
      "Index(['Name', 'Fifa note', 'speed', 'favorite meal'], dtype='object')\n"
     ]
    }
   ],
   "source": [
    "print(dataframe.columns)"
   ]
  },
  {
   "cell_type": "code",
   "execution_count": 9,
   "metadata": {},
   "outputs": [
    {
     "name": "stdout",
     "output_type": "stream",
     "text": [
      "             Name  Fifa note  speed favorite meal\n",
      "0      Toni Kroos         90     80         pasta\n",
      "1    David De Gea         91     70         fries\n",
      "2    Sergio Ramos         91     75         pasta\n",
      "3   Kikyan Mbappé        100    100         fries\n",
      "4  Mohammed Salah         88     95         pasta\n",
      "5    Mats Hummels         89     73    vegetables\n"
     ]
    }
   ],
   "source": [
    "print(dataframe.head(10))"
   ]
  },
  {
   "cell_type": "code",
   "execution_count": 10,
   "metadata": {},
   "outputs": [
    {
     "name": "stdout",
     "output_type": "stream",
     "text": [
      "---\n",
      "all information on player 1\n",
      "---\n",
      "Name             David De Gea\n",
      "Fifa note                  91\n",
      "speed                      70\n",
      "favorite meal           fries\n",
      "Name: 1, dtype: object\n"
     ]
    }
   ],
   "source": [
    "player_id = 1\n",
    "print(f\"---\\nall information on player {player_id}\\n---\")\n",
    "print(dataframe.loc[player_id])"
   ]
  },
  {
   "cell_type": "code",
   "execution_count": 11,
   "metadata": {},
   "outputs": [],
   "source": [
    "def compute_dissimilarity(player_1_id, player_2_id):\n",
    "    \"\"\"\n",
    "        Compute  dissimilarity betwwen two players\n",
    "        based on their id.\n",
    "\n",
    "        The meal is not a quantitative attribute.\n",
    "        It is called a categorical variable.\n",
    "        We must handle it differently than quantitative\n",
    "        attributes.\n",
    "    \"\"\"\n",
    "    player_1_note = dataframe.loc[player_1_id][1]\n",
    "    player_2_note = dataframe.loc[player_2_id][1]\n",
    "\n",
    "    player_1_speed = dataframe.loc[player_1_id][2]\n",
    "    player_2_speed = dataframe.loc[player_2_id][2]\n",
    "\n",
    "    player_1_meal = dataframe.loc[player_1_id][3]\n",
    "    player_2_meal = dataframe.loc[player_2_id][3]\n",
    "\n",
    "    if player_1_meal == player_2_meal:\n",
    "        dissimilarity_meal = 0\n",
    "    else:\n",
    "        dissimilarity_meal = 1\n",
    "\n",
    "    # EDIT HERE\n",
    "    dissimilarity = math.sqrt(\n",
    "        (player_1_note-player_2_note)**2+(player_1_speed-player_2_speed)**2+dissimilarity_meal)\n",
    "\n",
    "    print(\"----\")\n",
    "    player_1_name = dataframe.loc[player_1_id][\"Name\"]\n",
    "    player_2_name = dataframe.loc[player_2_id][\"Name\"]\n",
    "    print(f\"plyr 1 {player_1_name}, plyr 2 {player_2_name}, dissimilarity: {dissimilarity}\")\n",
    "    return dissimilarity"
   ]
  },
  {
   "cell_type": "code",
   "execution_count": 12,
   "metadata": {},
   "outputs": [
    {
     "name": "stdout",
     "output_type": "stream",
     "text": [
      "compute dissimilarities\n",
      "----\n",
      "plyr 1 Toni Kroos, plyr 2 Toni Kroos, dissimilarity: 0.0\n",
      "----\n",
      "plyr 1 Toni Kroos, plyr 2 David De Gea, dissimilarity: 10.099504938362077\n",
      "----\n",
      "plyr 1 Toni Kroos, plyr 2 Sergio Ramos, dissimilarity: 5.0990195135927845\n",
      "----\n",
      "plyr 1 Toni Kroos, plyr 2 Kikyan Mbappé, dissimilarity: 22.38302928559939\n",
      "----\n",
      "plyr 1 Toni Kroos, plyr 2 Mohammed Salah, dissimilarity: 15.132745950421556\n",
      "----\n",
      "plyr 1 Toni Kroos, plyr 2 Mats Hummels, dissimilarity: 7.14142842854285\n",
      "----\n",
      "plyr 1 David De Gea, plyr 2 Toni Kroos, dissimilarity: 10.099504938362077\n",
      "----\n",
      "plyr 1 David De Gea, plyr 2 David De Gea, dissimilarity: 0.0\n",
      "----\n",
      "plyr 1 David De Gea, plyr 2 Sergio Ramos, dissimilarity: 5.0990195135927845\n",
      "----\n",
      "plyr 1 David De Gea, plyr 2 Kikyan Mbappé, dissimilarity: 31.32091952673165\n",
      "----\n",
      "plyr 1 David De Gea, plyr 2 Mohammed Salah, dissimilarity: 25.199206336708304\n",
      "----\n",
      "plyr 1 David De Gea, plyr 2 Mats Hummels, dissimilarity: 3.7416573867739413\n",
      "----\n",
      "plyr 1 Sergio Ramos, plyr 2 Toni Kroos, dissimilarity: 5.0990195135927845\n",
      "----\n",
      "plyr 1 Sergio Ramos, plyr 2 David De Gea, dissimilarity: 5.0990195135927845\n",
      "----\n",
      "plyr 1 Sergio Ramos, plyr 2 Sergio Ramos, dissimilarity: 0.0\n",
      "----\n",
      "plyr 1 Sergio Ramos, plyr 2 Kikyan Mbappé, dissimilarity: 26.589471600616662\n",
      "----\n",
      "plyr 1 Sergio Ramos, plyr 2 Mohammed Salah, dissimilarity: 20.223748416156685\n",
      "----\n",
      "plyr 1 Sergio Ramos, plyr 2 Mats Hummels, dissimilarity: 3.0\n",
      "----\n",
      "plyr 1 Kikyan Mbappé, plyr 2 Toni Kroos, dissimilarity: 22.38302928559939\n",
      "----\n",
      "plyr 1 Kikyan Mbappé, plyr 2 David De Gea, dissimilarity: 31.32091952673165\n",
      "----\n",
      "plyr 1 Kikyan Mbappé, plyr 2 Sergio Ramos, dissimilarity: 26.589471600616662\n",
      "----\n",
      "plyr 1 Kikyan Mbappé, plyr 2 Kikyan Mbappé, dissimilarity: 0.0\n",
      "----\n",
      "plyr 1 Kikyan Mbappé, plyr 2 Mohammed Salah, dissimilarity: 13.038404810405298\n",
      "----\n",
      "plyr 1 Kikyan Mbappé, plyr 2 Mats Hummels, dissimilarity: 29.171904291629644\n",
      "----\n",
      "plyr 1 Mohammed Salah, plyr 2 Toni Kroos, dissimilarity: 15.132745950421556\n",
      "----\n",
      "plyr 1 Mohammed Salah, plyr 2 David De Gea, dissimilarity: 25.199206336708304\n",
      "----\n",
      "plyr 1 Mohammed Salah, plyr 2 Sergio Ramos, dissimilarity: 20.223748416156685\n",
      "----\n",
      "plyr 1 Mohammed Salah, plyr 2 Kikyan Mbappé, dissimilarity: 13.038404810405298\n",
      "----\n",
      "plyr 1 Mohammed Salah, plyr 2 Mohammed Salah, dissimilarity: 0.0\n",
      "----\n",
      "plyr 1 Mohammed Salah, plyr 2 Mats Hummels, dissimilarity: 22.045407685048602\n",
      "----\n",
      "plyr 1 Mats Hummels, plyr 2 Toni Kroos, dissimilarity: 7.14142842854285\n",
      "----\n",
      "plyr 1 Mats Hummels, plyr 2 David De Gea, dissimilarity: 3.7416573867739413\n",
      "----\n",
      "plyr 1 Mats Hummels, plyr 2 Sergio Ramos, dissimilarity: 3.0\n",
      "----\n",
      "plyr 1 Mats Hummels, plyr 2 Kikyan Mbappé, dissimilarity: 29.171904291629644\n",
      "----\n",
      "plyr 1 Mats Hummels, plyr 2 Mohammed Salah, dissimilarity: 22.045407685048602\n",
      "----\n",
      "plyr 1 Mats Hummels, plyr 2 Mats Hummels, dissimilarity: 0.0\n",
      "dissimilarity matrix\n",
      "[[ 0.         10.09950494  5.09901951 22.38302929 15.13274595  7.14142843]\n",
      " [10.09950494  0.          5.09901951 31.32091953 25.19920634  3.74165739]\n",
      " [ 5.09901951  5.09901951  0.         26.5894716  20.22374842  3.        ]\n",
      " [22.38302929 31.32091953 26.5894716   0.         13.03840481 29.17190429]\n",
      " [15.13274595 25.19920634 20.22374842 13.03840481  0.         22.04540769]\n",
      " [ 7.14142843  3.74165739  3.         29.17190429 22.04540769  0.        ]]\n"
     ]
    }
   ],
   "source": [
    "# build a dissimilarity matrix\n",
    "dissimilarity_matrix = np.zeros((nb_players, nb_players))\n",
    "print(\"compute dissimilarities\")\n",
    "for player_1_id in range(nb_players):\n",
    "    for player_2_id in range(nb_players):\n",
    "        dissimilarity = compute_dissimilarity(player_1_id, player_2_id)\n",
    "        dissimilarity_matrix[player_1_id, player_2_id] = dissimilarity\n",
    "\n",
    "print(\"dissimilarity matrix\")\n",
    "print(dissimilarity_matrix)"
   ]
  },
  {
   "cell_type": "code",
   "execution_count": 13,
   "metadata": {},
   "outputs": [
    {
     "data": {
      "text/plain": [
       "'images/complex_data_threshold_3.pdf'"
      ]
     },
     "execution_count": 13,
     "metadata": {},
     "output_type": "execute_result"
    }
   ],
   "source": [
    "threshold = 3\n",
    "# build a graph from the dissimilarity\n",
    "dot = Graph(comment='Graph created from complex data',\n",
    "            strict=True)\n",
    "for player_id in range(nb_players):\n",
    "    player_name = dataframe.loc[player_id][0]\n",
    "    dot.node(player_name)\n",
    "\n",
    "for player_1_id in range(nb_players):\n",
    "    # we use an undirected graph so we do not need\n",
    "    # to take the potential reciprocal edge\n",
    "    # into account\n",
    "    for player_2_id in range(nb_players):\n",
    "        # no self loops\n",
    "        if not player_1_id == player_2_id:\n",
    "            player_1_name = dataframe.loc[player_1_id][0]\n",
    "            player_2_name = dataframe.loc[player_2_id][0]\n",
    "            # use the threshold condition\n",
    "            if dissimilarity_matrix[player_1_id, player_2_id] > threshold:\n",
    "                dot.edge(player_1_name,\n",
    "                         player_2_name,\n",
    "                         color='darkolivegreen4',\n",
    "                         penwidth='1.1')\n",
    "\n",
    "# visualize the graph\n",
    "dot.attr(label=f\"threshold {threshold}\", fontsize='20')\n",
    "graph_name = f\"images/complex_data_threshold_{threshold}\"\n",
    "dot.render(graph_name)"
   ]
  },
  {
   "cell_type": "code",
   "execution_count": 14,
   "metadata": {},
   "outputs": [
    {
     "data": {
      "image/svg+xml": [
       "<?xml version=\"1.0\" encoding=\"UTF-8\" standalone=\"no\"?>\n",
       "<!DOCTYPE svg PUBLIC \"-//W3C//DTD SVG 1.1//EN\"\n",
       " \"http://www.w3.org/Graphics/SVG/1.1/DTD/svg11.dtd\">\n",
       "<!-- Generated by graphviz version 2.40.1 (20161225.0304)\n",
       " -->\n",
       "<!-- Title: %3 Pages: 1 -->\n",
       "<svg width=\"389pt\" height=\"434pt\"\n",
       " viewBox=\"0.00 0.00 389.44 434.00\" xmlns=\"http://www.w3.org/2000/svg\" xmlns:xlink=\"http://www.w3.org/1999/xlink\">\n",
       "<g id=\"graph0\" class=\"graph\" transform=\"scale(1 1) rotate(0) translate(4 430)\">\n",
       "<title>%3</title>\n",
       "<polygon fill=\"#ffffff\" stroke=\"transparent\" points=\"-4,4 -4,-430 385.4431,-430 385.4431,4 -4,4\"/>\n",
       "<text text-anchor=\"middle\" x=\"190.7216\" y=\"-10\" font-family=\"Times,serif\" font-size=\"20.00\" fill=\"#000000\">threshold 3</text>\n",
       "<!-- Toni Kroos -->\n",
       "<g id=\"node1\" class=\"node\">\n",
       "<title>Toni Kroos</title>\n",
       "<ellipse fill=\"none\" stroke=\"#000000\" cx=\"159\" cy=\"-408\" rx=\"60.3893\" ry=\"18\"/>\n",
       "<text text-anchor=\"middle\" x=\"159\" y=\"-404.3\" font-family=\"Times,serif\" font-size=\"14.00\" fill=\"#000000\">Toni Kroos</text>\n",
       "</g>\n",
       "<!-- David De Gea -->\n",
       "<g id=\"node2\" class=\"node\">\n",
       "<title>David De Gea</title>\n",
       "<ellipse fill=\"none\" stroke=\"#000000\" cx=\"159\" cy=\"-336\" rx=\"74.187\" ry=\"18\"/>\n",
       "<text text-anchor=\"middle\" x=\"159\" y=\"-332.3\" font-family=\"Times,serif\" font-size=\"14.00\" fill=\"#000000\">David De Gea</text>\n",
       "</g>\n",
       "<!-- Toni Kroos&#45;&#45;David De Gea -->\n",
       "<g id=\"edge1\" class=\"edge\">\n",
       "<title>Toni Kroos&#45;&#45;David De Gea</title>\n",
       "<path fill=\"none\" stroke=\"#6e8b3d\" stroke-width=\"1.1\" d=\"M159,-389.8314C159,-379 159,-365.2876 159,-354.4133\"/>\n",
       "</g>\n",
       "<!-- Sergio Ramos -->\n",
       "<g id=\"node3\" class=\"node\">\n",
       "<title>Sergio Ramos</title>\n",
       "<ellipse fill=\"none\" stroke=\"#000000\" cx=\"290\" cy=\"-264\" rx=\"75.2868\" ry=\"18\"/>\n",
       "<text text-anchor=\"middle\" x=\"290\" y=\"-260.3\" font-family=\"Times,serif\" font-size=\"14.00\" fill=\"#000000\">Sergio Ramos</text>\n",
       "</g>\n",
       "<!-- Toni Kroos&#45;&#45;Sergio Ramos -->\n",
       "<g id=\"edge2\" class=\"edge\">\n",
       "<title>Toni Kroos&#45;&#45;Sergio Ramos</title>\n",
       "<path fill=\"none\" stroke=\"#6e8b3d\" stroke-width=\"1.1\" d=\"M190.5515,-392.4944C207.35,-383.0859 227.479,-369.8401 242,-354 261.6248,-332.5924 275.8046,-301.6773 283.4617,-282.2218\"/>\n",
       "</g>\n",
       "<!-- Kikyan Mbappé -->\n",
       "<g id=\"node4\" class=\"node\">\n",
       "<title>Kikyan Mbappé</title>\n",
       "<ellipse fill=\"none\" stroke=\"#000000\" cx=\"149\" cy=\"-192\" rx=\"83.3857\" ry=\"18\"/>\n",
       "<text text-anchor=\"middle\" x=\"149\" y=\"-188.3\" font-family=\"Times,serif\" font-size=\"14.00\" fill=\"#000000\">Kikyan Mbappé</text>\n",
       "</g>\n",
       "<!-- Toni Kroos&#45;&#45;Kikyan Mbappé -->\n",
       "<g id=\"edge3\" class=\"edge\">\n",
       "<title>Toni Kroos&#45;&#45;Kikyan Mbappé</title>\n",
       "<path fill=\"none\" stroke=\"#6e8b3d\" stroke-width=\"1.1\" d=\"M121.5105,-393.607C104.3743,-384.915 85.7538,-371.9823 76,-354 48.4955,-303.2922 100.125,-240.2246 129.9547,-209.911\"/>\n",
       "</g>\n",
       "<!-- Mohammed Salah -->\n",
       "<g id=\"node5\" class=\"node\">\n",
       "<title>Mohammed Salah</title>\n",
       "<ellipse fill=\"none\" stroke=\"#000000\" cx=\"260\" cy=\"-120\" rx=\"94.4839\" ry=\"18\"/>\n",
       "<text text-anchor=\"middle\" x=\"260\" y=\"-116.3\" font-family=\"Times,serif\" font-size=\"14.00\" fill=\"#000000\">Mohammed Salah</text>\n",
       "</g>\n",
       "<!-- Toni Kroos&#45;&#45;Mohammed Salah -->\n",
       "<g id=\"edge4\" class=\"edge\">\n",
       "<title>Toni Kroos&#45;&#45;Mohammed Salah</title>\n",
       "<path fill=\"none\" stroke=\"#6e8b3d\" stroke-width=\"1.1\" d=\"M205.6408,-396.313C257.9233,-380.3715 339.8416,-346.1568 374,-282 403.9811,-225.6891 330.6563,-165.9255 287.9967,-137.2794\"/>\n",
       "</g>\n",
       "<!-- Mats Hummels -->\n",
       "<g id=\"node6\" class=\"node\">\n",
       "<title>Mats Hummels</title>\n",
       "<ellipse fill=\"none\" stroke=\"#000000\" cx=\"88\" cy=\"-48\" rx=\"81.7856\" ry=\"18\"/>\n",
       "<text text-anchor=\"middle\" x=\"88\" y=\"-44.3\" font-family=\"Times,serif\" font-size=\"14.00\" fill=\"#000000\">Mats Hummels</text>\n",
       "</g>\n",
       "<!-- Toni Kroos&#45;&#45;Mats Hummels -->\n",
       "<g id=\"edge5\" class=\"edge\">\n",
       "<title>Toni Kroos&#45;&#45;Mats Hummels</title>\n",
       "<path fill=\"none\" stroke=\"#6e8b3d\" stroke-width=\"1.1\" d=\"M121.7216,-393.627C74.7259,-372.7818 0,-329.3603 0,-264 0,-264 0,-264 0,-192 0,-140.1414 42.0677,-91.1554 68.0314,-65.8603\"/>\n",
       "</g>\n",
       "<!-- David De Gea&#45;&#45;Sergio Ramos -->\n",
       "<g id=\"edge6\" class=\"edge\">\n",
       "<title>David De Gea&#45;&#45;Sergio Ramos</title>\n",
       "<path fill=\"none\" stroke=\"#6e8b3d\" stroke-width=\"1.1\" d=\"M189.054,-319.4817C210.2048,-307.8569 238.4121,-292.3537 259.6322,-280.6907\"/>\n",
       "</g>\n",
       "<!-- David De Gea&#45;&#45;Kikyan Mbappé -->\n",
       "<g id=\"edge7\" class=\"edge\">\n",
       "<title>David De Gea&#45;&#45;Kikyan Mbappé</title>\n",
       "<path fill=\"none\" stroke=\"#6e8b3d\" stroke-width=\"1.1\" d=\"M157.7335,-317.7623C155.8099,-290.0633 152.1736,-237.7005 150.2562,-210.0896\"/>\n",
       "</g>\n",
       "<!-- David De Gea&#45;&#45;Mohammed Salah -->\n",
       "<g id=\"edge8\" class=\"edge\">\n",
       "<title>David De Gea&#45;&#45;Mohammed Salah</title>\n",
       "<path fill=\"none\" stroke=\"#6e8b3d\" stroke-width=\"1.1\" d=\"M166.5867,-317.8662C174.8868,-299.0315 189.262,-269.1365 206,-246 219.08,-227.9199 230.504,-229.6929 241,-210 253.1681,-187.1699 257.5445,-157.1935 259.1179,-138.2577\"/>\n",
       "</g>\n",
       "<!-- David De Gea&#45;&#45;Mats Hummels -->\n",
       "<g id=\"edge9\" class=\"edge\">\n",
       "<title>David De Gea&#45;&#45;Mats Hummels</title>\n",
       "<path fill=\"none\" stroke=\"#6e8b3d\" stroke-width=\"1.1\" d=\"M138.0445,-318.5565C113.1764,-296.3458 73.0615,-255.3675 57,-210 39.1293,-159.522 63.9077,-96.3485 78.5631,-65.9611\"/>\n",
       "</g>\n",
       "<!-- Sergio Ramos&#45;&#45;Kikyan Mbappé -->\n",
       "<g id=\"edge10\" class=\"edge\">\n",
       "<title>Sergio Ramos&#45;&#45;Kikyan Mbappé</title>\n",
       "<path fill=\"none\" stroke=\"#6e8b3d\" stroke-width=\"1.1\" d=\"M258.0049,-247.6621C235.2544,-236.0448 204.7869,-220.4869 181.847,-208.7729\"/>\n",
       "</g>\n",
       "<!-- Sergio Ramos&#45;&#45;Mohammed Salah -->\n",
       "<g id=\"edge11\" class=\"edge\">\n",
       "<title>Sergio Ramos&#45;&#45;Mohammed Salah</title>\n",
       "<path fill=\"none\" stroke=\"#6e8b3d\" stroke-width=\"1.1\" d=\"M287.2209,-245.9895C284.3094,-227.7626 279.4125,-198.8084 274,-174 271.3988,-162.0774 267.9667,-148.8097 265.1517,-138.4092\"/>\n",
       "</g>\n",
       "<!-- Kikyan Mbappé&#45;&#45;Mohammed Salah -->\n",
       "<g id=\"edge12\" class=\"edge\">\n",
       "<title>Kikyan Mbappé&#45;&#45;Mohammed Salah</title>\n",
       "<path fill=\"none\" stroke=\"#6e8b3d\" stroke-width=\"1.1\" d=\"M175.5873,-174.7542C193.0326,-163.4383 215.7658,-148.6924 233.245,-137.3546\"/>\n",
       "</g>\n",
       "<!-- Kikyan Mbappé&#45;&#45;Mats Hummels -->\n",
       "<g id=\"edge13\" class=\"edge\">\n",
       "<title>Kikyan Mbappé&#45;&#45;Mats Hummels</title>\n",
       "<path fill=\"none\" stroke=\"#6e8b3d\" stroke-width=\"1.1\" d=\"M141.3976,-174.0535C129.7084,-146.4592 107.4449,-93.9026 95.6982,-66.1727\"/>\n",
       "</g>\n",
       "<!-- Mohammed Salah&#45;&#45;Mats Hummels -->\n",
       "<g id=\"edge14\" class=\"edge\">\n",
       "<title>Mohammed Salah&#45;&#45;Mats Hummels</title>\n",
       "<path fill=\"none\" stroke=\"#6e8b3d\" stroke-width=\"1.1\" d=\"M220.5397,-103.4817C192.1742,-91.6078 154.1423,-75.6875 126.094,-63.9463\"/>\n",
       "</g>\n",
       "</g>\n",
       "</svg>\n"
      ],
      "text/plain": [
       "<graphviz.dot.Graph at 0x7fe909027550>"
      ]
     },
     "execution_count": 14,
     "metadata": {},
     "output_type": "execute_result"
    }
   ],
   "source": [
    "dot"
   ]
  }
 ],
 "metadata": {
  "kernelspec": {
   "display_name": "Python 3 (ipykernel)",
   "language": "python",
   "name": "python3"
  },
  "language_info": {
   "codemirror_mode": {
    "name": "ipython",
    "version": 3
   },
   "file_extension": ".py",
   "mimetype": "text/x-python",
   "name": "python",
   "nbconvert_exporter": "python",
   "pygments_lexer": "ipython3",
   "version": "3.11.7"
  }
 },
 "nbformat": 4,
 "nbformat_minor": 4
}
